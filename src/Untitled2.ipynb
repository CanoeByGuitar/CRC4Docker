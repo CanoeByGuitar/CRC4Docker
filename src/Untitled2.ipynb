{
 "cells": [
  {
   "cell_type": "code",
   "execution_count": 1,
   "metadata": {},
   "outputs": [],
   "source": [
    "import tensorflow as tf\n",
    "cluster = tf.train.ClusterSpec( {'worker': ['vivo:2222','rpi3:2222']})\n",
    "server = tf.train.Server(cluster,job_name='worker',task_index=0)"
   ]
  },
  {
   "cell_type": "code",
   "execution_count": 6,
   "metadata": {},
   "outputs": [
    {
     "name": "stdout",
     "output_type": "stream",
     "text": [
      "------------IRMAD (tensorflow) -------------\n",
      "Sat Feb 23 12:58:53 2019\n",
      "first scene:  imagery/LE7_20010525\n",
      "second scene: imagery/LE7_20010626\n",
      "canonical corr: [0.99547565 0.99277128 0.96854059 0.86450122 0.73093174 0.66616486]\n",
      "MADs written to: imagery/MAD(LE7_20010525-LE7_20010626).tif\n",
      "elapsed time: 196.76761198\n"
     ]
    }
   ],
   "source": [
    "run scripts/iMad_tf -s  grpc://vivo:2222  -D /task:1  imagery/LE7_20010525 imagery/LE7_20010626"
   ]
  },
  {
   "cell_type": "code",
   "execution_count": null,
   "metadata": {},
   "outputs": [],
   "source": []
  }
 ],
 "metadata": {
  "kernelspec": {
   "display_name": "Python 2",
   "language": "python",
   "name": "python2"
  },
  "language_info": {
   "codemirror_mode": {
    "name": "ipython",
    "version": 2
   },
   "file_extension": ".py",
   "mimetype": "text/x-python",
   "name": "python",
   "nbconvert_exporter": "python",
   "pygments_lexer": "ipython2",
   "version": "2.7.15rc1"
  }
 },
 "nbformat": 4,
 "nbformat_minor": 2
}
