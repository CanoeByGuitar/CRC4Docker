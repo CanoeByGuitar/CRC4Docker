{
 "cells": [
  {
   "cell_type": "code",
   "execution_count": 2,
   "metadata": {},
   "outputs": [
    {
     "name": "stdout",
     "output_type": "stream",
     "text": [
      "Stop a running IPython cluster\r\n",
      "\r\n",
      "Stop a running ipython cluster by its profile name or cluster directory. Cluster\r\n",
      "directories are named using the convention 'profile_<name>'. If your cluster\r\n",
      "directory is in the cwd or the ipython directory, you can simply refer to it\r\n",
      "using its profile name, 'ipcluster stop --profile=<profile>`, otherwise use the\r\n",
      "'--profile-dir' option.\r\n",
      "\r\n",
      "Options\r\n",
      "-------\r\n",
      "\r\n",
      "Arguments that take values are actually convenience aliases to full\r\n",
      "Configurables, whose aliases are listed on the help line. For more information\r\n",
      "on full configurables, see '--help-all'.\r\n",
      "\r\n",
      "--debug\r\n",
      "    set log level to logging.DEBUG (maximize logging output)\r\n",
      "--init\r\n",
      "    Initialize profile with default config files.  This is equivalent\r\n",
      "    to running `ipython profile create <profile>` prior to startup.\r\n",
      "--log-to-file\r\n",
      "    send log output to a file\r\n",
      "--quiet\r\n",
      "    set log level to logging.CRITICAL (minimize logging output)\r\n",
      "--profile=<Unicode> (BaseIPythonApplication.profile)\r\n",
      "    Default: u'default'\r\n",
      "    The IPython profile to use.\r\n",
      "--cluster-id=<Unicode> (BaseParallelApplication.cluster_id)\r\n",
      "    Default: ''\r\n",
      "    String id to add to runtime files, to prevent name collisions when using\r\n",
      "    multiple clusters with a single profile simultaneously.\r\n",
      "    When set, files will be named like: 'ipcontroller-<cluster_id>-engine.json'\r\n",
      "    Since this is text inserted into filenames, typical recommendations apply:\r\n",
      "    Simple character strings are ideal, and spaces are not recommended (but\r\n",
      "    should generally work).\r\n",
      "--log-to-file=<Bool> (BaseParallelApplication.log_to_file)\r\n",
      "    Default: False\r\n",
      "    whether to log to a file\r\n",
      "--ipython-dir=<Unicode> (BaseIPythonApplication.ipython_dir)\r\n",
      "    Default: u''\r\n",
      "    The name of the IPython directory. This directory is used for logging\r\n",
      "    configuration (through profiles), history storage, etc. The default is\r\n",
      "    usually $HOME/.ipython. This option can also be specified through the\r\n",
      "    environment variable IPYTHONDIR.\r\n",
      "--signal=<Integer> (IPClusterStop.signal)\r\n",
      "    Default: 2\r\n",
      "    signal to use for stopping processes.\r\n",
      "--log-level=<Enum> (Application.log_level)\r\n",
      "    Default: 30\r\n",
      "    Choices: (0, 10, 20, 30, 40, 50, 'DEBUG', 'INFO', 'WARN', 'ERROR', 'CRITICAL')\r\n",
      "    Set the log level by value or name.\r\n",
      "--log-url=<Unicode> (BaseParallelApplication.log_url)\r\n",
      "    Default: ''\r\n",
      "    The ZMQ URL of the iplogger to aggregate logging.\r\n",
      "--clean-logs=<Bool> (BaseParallelApplication.clean_logs)\r\n",
      "    Default: False\r\n",
      "    whether to cleanup old logfiles before starting\r\n",
      "--config=<Unicode> (BaseIPythonApplication.extra_config_file)\r\n",
      "    Default: u''\r\n",
      "    Path to an extra config file to load.\r\n",
      "    If specified, load this config file in addition to any other IPython config.\r\n",
      "--profile-dir=<Unicode> (ProfileDir.location)\r\n",
      "    Default: u''\r\n",
      "    Set the profile location directly. This overrides the logic used by the\r\n",
      "    `profile` option.\r\n",
      "--work-dir=<Unicode> (BaseParallelApplication.work_dir)\r\n",
      "    Default: u'/home/mort/python/CRC4Docker/src'\r\n",
      "    Set the working dir for the process.\r\n",
      "\r\n",
      "To see all available configurables, use `--help-all`\r\n",
      "\r\n",
      "Examples\r\n",
      "--------\r\n",
      "\r\n",
      "    ipcluster stop --profile=mycluster  # stop a running cluster by profile name\r\n",
      "\r\n"
     ]
    }
   ],
   "source": [
    "!ipcluster stop -h"
   ]
  },
  {
   "cell_type": "code",
   "execution_count": null,
   "metadata": {},
   "outputs": [],
   "source": []
  }
 ],
 "metadata": {
  "kernelspec": {
   "display_name": "Python 2",
   "language": "python",
   "name": "python2"
  },
  "language_info": {
   "codemirror_mode": {
    "name": "ipython",
    "version": 2
   },
   "file_extension": ".py",
   "mimetype": "text/x-python",
   "name": "python",
   "nbconvert_exporter": "python",
   "pygments_lexer": "ipython2",
   "version": "2.7.15"
  }
 },
 "nbformat": 4,
 "nbformat_minor": 2
}
