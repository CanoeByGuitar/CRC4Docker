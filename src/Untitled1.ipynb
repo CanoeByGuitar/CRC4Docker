{
 "cells": [
  {
   "cell_type": "code",
   "execution_count": 1,
   "metadata": {},
   "outputs": [],
   "source": [
    "%matplotlib inline"
   ]
  },
  {
   "cell_type": "code",
   "execution_count": 5,
   "metadata": {},
   "outputs": [
    {
     "ename": "ImportError",
     "evalue": "No module named tensorflow_probability",
     "output_type": "error",
     "traceback": [
      "\u001b[0;31m---------------------------------------------------------------------------\u001b[0m",
      "\u001b[0;31mImportError\u001b[0m                               Traceback (most recent call last)",
      "\u001b[0;32m/home/mort/python/CRC4Docker/src/scripts/iMad_tf.py\u001b[0m in \u001b[0;36m<module>\u001b[0;34m()\u001b[0m\n\u001b[1;32m      3\u001b[0m \u001b[0;34m\u001b[0m\u001b[0m\n\u001b[1;32m      4\u001b[0m \u001b[0;32mimport\u001b[0m \u001b[0mtensorflow\u001b[0m \u001b[0;32mas\u001b[0m \u001b[0mtf\u001b[0m\u001b[0;34m\u001b[0m\u001b[0m\n\u001b[0;32m----> 5\u001b[0;31m \u001b[0;32mimport\u001b[0m \u001b[0mtensorflow_probability\u001b[0m \u001b[0;32mas\u001b[0m \u001b[0mtfp\u001b[0m\u001b[0;34m\u001b[0m\u001b[0m\n\u001b[0m\u001b[1;32m      6\u001b[0m \u001b[0;32mimport\u001b[0m \u001b[0mnumpy\u001b[0m \u001b[0;32mas\u001b[0m \u001b[0mnp\u001b[0m\u001b[0;34m\u001b[0m\u001b[0m\n\u001b[1;32m      7\u001b[0m \u001b[0;32mfrom\u001b[0m \u001b[0mosgeo\u001b[0m \u001b[0;32mimport\u001b[0m \u001b[0mgdal\u001b[0m\u001b[0;34m\u001b[0m\u001b[0m\n",
      "\u001b[0;31mImportError\u001b[0m: No module named tensorflow_probability"
     ]
    }
   ],
   "source": [
    "run scripts/iMad_tf LE7_20010525 LE7_20010626"
   ]
  },
  {
   "cell_type": "code",
   "execution_count": 4,
   "metadata": {},
   "outputs": [
    {
     "name": "stdout",
     "output_type": "stream",
     "text": [
      "AST_20010409\r\n",
      "AST_20010409.hdr\r\n",
      "AST_20010730\r\n",
      "AST_20010730.hdr\r\n",
      "AST_20050911\r\n",
      "AST_20050911.hdr\r\n",
      "AST_20070501\r\n",
      "AST_20070501.hdr\r\n",
      "AST_20070501_pca.tfw\r\n",
      "\u001b[0m\u001b[01;35mAST_20070501_pca.tif\u001b[0m\r\n",
      "AST_3N\r\n",
      "AST_3N.hdr\r\n",
      "AST_DEM\r\n",
      "AST_DEM.hdr\r\n",
      "gcps.pts\r\n",
      "IKON_ms\r\n",
      "IKON_ms.hdr\r\n",
      "IKON_pan\r\n",
      "IKON_pan.hdr\r\n",
      "LE7_20010525\r\n",
      "LE7_20010525.hdr\r\n",
      "LE7_20010626\r\n",
      "LE7_20010626.hdr\r\n",
      "LE7_20010829\r\n",
      "LE7_20010829.hdr\r\n",
      "\u001b[01;35mLT5_19980329.tif\u001b[0m\r\n",
      "\u001b[01;35mLT5_19980516.tif\u001b[0m\r\n",
      "model.weights.best.hdf5\r\n",
      "\u001b[01;35mS1A_IW_SLC__1SDV_20141108T054351_20141108T054421_003186_003AB4_B367.tif\u001b[0m\r\n",
      "\u001b[01;35mS1A_IW_SLC__1SDV_20141202T054350_20141202T054420_003536_004299_33DA.tif\u001b[0m\r\n",
      "\u001b[01;35mS1A_IW_SLC__1SDV_20150131T054348_20150131T054418_004411_005642_4935.tif\u001b[0m\r\n",
      "\u001b[01;35mS1A_IW_SLC__1SDV_20150224T054348_20150224T054418_004761_005E71_4E6C.tif\u001b[0m\r\n",
      "\u001b[01;35mS1A_IW_SLC__1SDV_20150401T054349_20150401T054416_005286_006AFC_1D4E.tif\u001b[0m\r\n",
      "\u001b[01;35mS1A_IW_SLC__1SDV_20150507T054353_20150507T054421_005811_00778F_5C61.tif\u001b[0m\r\n",
      "\u001b[01;35mS1A_IW_SLC__1SDV_20150612T054355_20150612T054423_006336_008554_0214.tif\u001b[0m\r\n",
      "\u001b[01;35mS1A_IW_SLC__1SDV_20151010T054400_20151010T054428_008086_00B55D_4185.tif\u001b[0m\r\n",
      "\u001b[01;35mtraffic1.jpg\u001b[0m\r\n",
      "\u001b[01;35mtraffic2.jpg\u001b[0m\r\n",
      "train_.dbf\r\n",
      "train.dbf\r\n",
      "train_.evf\r\n",
      "train.prj\r\n",
      "train.roi\r\n",
      "train.shp\r\n",
      "train.shx\r\n",
      "train.txt\r\n"
     ]
    }
   ],
   "source": [
    "ls imagery"
   ]
  },
  {
   "cell_type": "code",
   "execution_count": null,
   "metadata": {},
   "outputs": [],
   "source": []
  }
 ],
 "metadata": {
  "kernelspec": {
   "display_name": "Python 2",
   "language": "python",
   "name": "python2"
  },
  "language_info": {
   "codemirror_mode": {
    "name": "ipython",
    "version": 2
   },
   "file_extension": ".py",
   "mimetype": "text/x-python",
   "name": "python",
   "nbconvert_exporter": "python",
   "pygments_lexer": "ipython2",
   "version": "2.7.15rc1"
  }
 },
 "nbformat": 4,
 "nbformat_minor": 2
}
