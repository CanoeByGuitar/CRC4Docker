{
 "cells": [
  {
   "cell_type": "markdown",
   "metadata": {},
   "source": [
    "# Examples for Chapter 9"
   ]
  },
  {
   "cell_type": "code",
   "execution_count": 1,
   "metadata": {},
   "outputs": [],
   "source": [
    "%matplotlib inline"
   ]
  },
  {
   "cell_type": "markdown",
   "metadata": {},
   "source": [
    "## Sequential SAR change detection on GEE"
   ]
  },
  {
   "cell_type": "code",
   "execution_count": 2,
   "metadata": {},
   "outputs": [],
   "source": [
    "import ee, math, time\n",
    "from ipyleaflet import (Map,DrawControl,TileLayer,basemaps)\n",
    "from auxil.eeWishart import omnibus\n",
    "ee.Initialize()"
   ]
  },
  {
   "cell_type": "markdown",
   "metadata": {},
   "source": [
    "### Auxiliary functions"
   ]
  },
  {
   "cell_type": "code",
   "execution_count": 3,
   "metadata": {},
   "outputs": [],
   "source": [
    "def get_vvvh(image):   \n",
    "    ''' get 'VV' and 'VH' bands from sentinel-1 imageCollection and restore linear signal from db-values '''\n",
    "    return image.select('VV','VH').multiply(ee.Image.constant(math.log(10.0)/10.0)).exp()\n",
    "\n",
    "def get_image(current,image):\n",
    "    ''' accumulate a single image from a collection of images '''\n",
    "    return ee.Image.cat(ee.Image(image),current)    \n",
    "    \n",
    "def clipList(current,prev):\n",
    "    ''' clip a list of images '''\n",
    "    imlist = ee.List(ee.Dictionary(prev).get('imlist'))\n",
    "    poly = ee.Dictionary(prev).get('poly')    \n",
    "    imlist = imlist.add(ee.Image(current).clip(poly))\n",
    "    return ee.Dictionary({'imlist':imlist,'poly':poly})\n",
    "\n",
    "def handle_draw(self, action, geo_json):\n",
    "    global poly\n",
    "    if action == 'created':\n",
    "        coords =  geo_json['geometry']['coordinates']\n",
    "        poly = ee.Geometry.Polygon(coords)\n",
    "        \n",
    "dc = DrawControl()\n",
    "dc.on_draw(handle_draw)\n",
    "\n",
    "def GetTileLayerUrl(ee_image_object):\n",
    "  map_id = ee.Image(ee_image_object).getMapId()\n",
    "  tile_url_template = \"https://earthengine.googleapis.com/map/{mapid}/{{z}}/{{x}}/{{y}}?token={token}\"\n",
    "  return tile_url_template.format(**map_id)"
   ]
  },
  {
   "cell_type": "markdown",
   "metadata": {},
   "source": [
    "### Display the map"
   ]
  },
  {
   "cell_type": "code",
   "execution_count": 17,
   "metadata": {
    "scrolled": false
   },
   "outputs": [
    {
     "data": {
      "application/vnd.jupyter.widget-view+json": {
       "model_id": "0918d692ed334d678e8906706bc029c8",
       "version_major": 2,
       "version_minor": 0
      },
      "text/plain": [
       "TWFwKGJhc2VtYXA9eyd1cmwnOiAnaHR0cDovL3tzfS50aWxlLm9wZW5zdHJlZXRtYXAuZnIvaG90L3t6fS97eH0ve3l9LnBuZycsICdhdHRyaWJ1dGlvbic6ICcmY29weTsgPGEgaHJlZj0iaHTigKY=\n"
      ]
     },
     "metadata": {},
     "output_type": "display_data"
    }
   ],
   "source": [
    "m = Map(center=[50.9, 6.4], zoom=11, basemap=basemaps.OpenStreetMap.HOT,layout={'height':'500px'})\n",
    "m.add_control(dc)\n",
    "\n",
    "m"
   ]
  },
  {
   "cell_type": "markdown",
   "metadata": {},
   "source": [
    "### Run the algorithm"
   ]
  },
  {
   "cell_type": "code",
   "execution_count": 11,
   "metadata": {},
   "outputs": [
    {
     "name": "stdout",
     "output_type": "stream",
     "text": [
      "Images found: 35\n",
      "['T20170402', 'T20170408', 'T20170414', 'T20170420', 'T20170426', 'T20170502', 'T20170508', 'T20170514', 'T20170520', 'T20170526', 'T20170601', 'T20170607', 'T20170613', 'T20170619', 'T20170625', 'T20170701', 'T20170713', 'T20170719', 'T20170725', 'T20170731', 'T20170806', 'T20170812', 'T20170818', 'T20170824', 'T20170830', 'T20170905', 'T20170911', 'T20170917', 'T20170923', 'T20170929', 'T20171005', 'T20171011', 'T20171017', 'T20171023', 'T20171029']\n",
      "[139, 139, 139, 139, 139, 139, 139, 139, 139, 139, 139, 139, 139, 139, 139, 139, 139, 139, 139, 139, 139, 139, 139, 139, 139, 139, 139, 139, 139, 139, 139, 139, 139, 139, 139]\n"
     ]
    }
   ],
   "source": [
    "try:\n",
    "    collection = ee.ImageCollection('COPERNICUS/S1_GRD') \\\n",
    "              .filterBounds(poly) \\\n",
    "              .filterDate(ee.Date('2017-04-01'), ee.Date('2017-11-01')) \\\n",
    "              .filter(ee.Filter.eq('transmitterReceiverPolarisation', ['VV','VH'])) \\\n",
    "              .filter(ee.Filter.eq('resolution_meters', 10)) \\\n",
    "              .filter(ee.Filter.eq('instrumentMode', 'IW')) \n",
    "    collection = collection.sort('system:time_start') \n",
    "# comment out on first run to determine relative orbit numbers ******************\n",
    "    collection = collection.filter(ee.Filter.eq('relativeOrbitNumber_start',139)) \n",
    "# *******************************************************************************\n",
    "    acquisition_times = ee.List(collection.aggregate_array('system:time_start')).getInfo()\n",
    "    count = len(acquisition_times) \n",
    "    if count<2:\n",
    "        raise ValueError('Less than 2 images found')\n",
    "    timestamplist = []\n",
    "    for timestamp in acquisition_times:\n",
    "        tmp = time.gmtime(int(timestamp)/1000)\n",
    "        timestamplist.append(time.strftime('%x', tmp))  \n",
    "    #          make timestamps in YYYYMMDD format            \n",
    "    timestamplist = [x.replace('/','') for x in timestamplist]  \n",
    "    timestamplist = ['T20'+x[4:]+x[0:4] for x in timestamplist]\n",
    "    relativeorbitnumbers = str(map(int,ee.List(collection.aggregate_array('relativeOrbitNumber_start')).getInfo()))\n",
    "    print 'Images found: %i'%count\n",
    "    print 'Acquistion dates'\n",
    "    print timestamplist\n",
    "    print 'Relative orbit numbers'\n",
    "    print relativeorbitnumbers\n",
    "    pcollection = collection.map(get_vvvh)\n",
    "    pList = pcollection.toList(100)   \n",
    "    first = ee.Dictionary({'imlist':ee.List([]),'poly':poly}) \n",
    "    imList = ee.Dictionary(pList.iterate(clipList,first)).get('imlist')\n",
    "    result = ee.Dictionary(omnibus(imList,0.0001,True))\n",
    "except Exception as e:\n",
    "    print 'An error occurred in Omnibus: %s'%e\n"
   ]
  },
  {
   "cell_type": "markdown",
   "metadata": {},
   "source": [
    "### Display results"
   ]
  },
  {
   "cell_type": "code",
   "execution_count": 12,
   "metadata": {},
   "outputs": [],
   "source": [
    "jet = 'black,blue,cyan,yellow,red'\n",
    "\n",
    "cmap = ee.Image(result.get('cmap')).byte()   \n",
    "smap = ee.Image(result.get('smap')).byte()\n",
    "fmap = ee.Image(result.get('fmap')).byte()  \n",
    "bmap = ee.Image(result.get('bmap')).byte()\n",
    "\n",
    "m.add_layer(\n",
    "    TileLayer(url=GetTileLayerUrl(\n",
    "        fmap.visualize(min=0, max=count/2, palette=jet,opacity = 0.4)\n",
    "    )\n",
    "))"
   ]
  },
  {
   "cell_type": "markdown",
   "metadata": {},
   "source": [
    "### Export to GEE assets"
   ]
  },
  {
   "cell_type": "code",
   "execution_count": null,
   "metadata": {},
   "outputs": [],
   "source": []
  }
 ],
 "metadata": {
  "anaconda-cloud": {},
  "kernelspec": {
   "display_name": "Python 2",
   "language": "python",
   "name": "python2"
  },
  "language_info": {
   "codemirror_mode": {
    "name": "ipython",
    "version": 2
   },
   "file_extension": ".py",
   "mimetype": "text/x-python",
   "name": "python",
   "nbconvert_exporter": "python",
   "pygments_lexer": "ipython2",
   "version": "2.7.15"
  }
 },
 "nbformat": 4,
 "nbformat_minor": 2
}
