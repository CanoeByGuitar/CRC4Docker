{
 "cells": [
  {
   "cell_type": "code",
   "execution_count": 18,
   "metadata": {},
   "outputs": [
    {
     "name": "stdout",
     "output_type": "stream",
     "text": [
      "[[0.019052714974243865], [0.004852710937760313], [0.0006023476055342501], [0.00011092146226410557], [3.479348266105939e-05], [9.09144467171609e-06]]\n"
     ]
    },
    {
     "data": {
      "text/html": [
       "<img src=\"https://earthengine.googleapis.com/api/thumb?thumbid=6dc19f9a6c5020dd9cf296d733665fce&token=b4bbb1013cc1845633eb041adfbdc04a\"/>"
      ],
      "text/plain": [
       "<IPython.core.display.Image object>"
      ]
     },
     "execution_count": 18,
     "metadata": {},
     "output_type": "execute_result"
    }
   ],
   "source": [
    "import ee\n",
    "import IPython.display as disp\n",
    "from auxil import eepca \n",
    "ee.Initialize()\n",
    "\n",
    "region = ee.Geometry.Polygon([\n",
    "[6.3288116455078125,50.821987191789525],\n",
    "[6.5265655517578125,50.817215413611876],\n",
    "[6.5210723876953125,50.93549819263062],\n",
    "[6.3260650634765625,50.93246905060334],\n",
    "[6.3288116455078125,50.821987191789525]])\n",
    "\n",
    "im = ee.Image('LANDSAT/LE07/C01/T1_RT_TOA/LE07_197025_20010626') \\\n",
    "       .clip(region) \\\n",
    "       .select('B1','B2','B3','B4','B5','B7')\n",
    "\n",
    "pcs, lambdas = eepca.pca(im,region)\n",
    "\n",
    "print lambdas.getInfo()\n",
    "        \n",
    "url = pcs.select('pc1','pc2','pc3').getThumbURL({'min':-0.2,'max':0.2})\n",
    "disp.Image(url=url)"
   ]
  },
  {
   "cell_type": "code",
   "execution_count": null,
   "metadata": {},
   "outputs": [],
   "source": []
  }
 ],
 "metadata": {
  "kernelspec": {
   "display_name": "Python 2",
   "language": "python",
   "name": "python2"
  },
  "language_info": {
   "codemirror_mode": {
    "name": "ipython",
    "version": 2
   },
   "file_extension": ".py",
   "mimetype": "text/x-python",
   "name": "python",
   "nbconvert_exporter": "python",
   "pygments_lexer": "ipython2",
   "version": "2.7.14"
  }
 },
 "nbformat": 4,
 "nbformat_minor": 2
}
