{
 "cells": [
  {
   "cell_type": "markdown",
   "metadata": {},
   "source": [
    "# Notebook examples for ZFL/GEE April 2018"
   ]
  },
  {
   "cell_type": "code",
   "execution_count": null,
   "metadata": {},
   "outputs": [],
   "source": [
    "%matplotlib inline"
   ]
  },
  {
   "cell_type": "markdown",
   "metadata": {},
   "source": [
    "### Accessing the data catalogue"
   ]
  },
  {
   "cell_type": "code",
   "execution_count": null,
   "metadata": {},
   "outputs": [],
   "source": [
    "import ee, time\n",
    "\n",
    "ee.Initialize()\n",
    "\n",
    "try:\n",
    "    point = ee.Geometry.Point([8.5,50.0]) \n",
    "    start = ee.Date('2016-05-01')\n",
    "    finish = ee.Date('2016-08-01')    \n",
    "    collection = ee.ImageCollection('COPERNICUS/S2') \\\n",
    "                .filterBounds(point) \\\n",
    "                .filterDate(start, finish) \\\n",
    "                .sort('CLOUD_COVERAGE_ASSESSMENT', True)\n",
    "    count = collection.toList(100).length().getInfo()\n",
    "    if count==0:\n",
    "        raise ValueError('No images found')   \n",
    "    image = ee.Image(collection.first()) \n",
    "    timestamp = ee.Date(image.get('system:time_start')).getInfo()\n",
    "    timestamp = time.gmtime(int(timestamp['value'])/1000)\n",
    "    timestamp = time.strftime('%c', timestamp) \n",
    "    systemid = image.get('system:id').getInfo()\n",
    "    cloudcover = image.get('CLOUD_COVERAGE_ASSESSMENT').getInfo()\n",
    "    projection = image.select('B2').projection().getInfo()['crs']    \n",
    "    print 'system id: %s'%systemid\n",
    "    print 'acquisition time: %s'%timestamp\n",
    "    print 'cloud cover (percent):%s'%cloudcover\n",
    "    print 'projection: %s'%projection\n",
    "except Exception as e:\n",
    "    print 'An error occurred: %s'%e"
   ]
  },
  {
   "cell_type": "markdown",
   "metadata": {},
   "source": [
    "### Exporting data"
   ]
  },
  {
   "cell_type": "code",
   "execution_count": null,
   "metadata": {},
   "outputs": [],
   "source": [
    "maxLat = 50.06526459341422\n",
    "minLon = 8.477334975832491\n",
    "minLat = 50.01013697421883\n",
    "maxLon = 8.633890151613743\n",
    "rect = ee.Geometry.Rectangle(minLon,minLat,maxLon,maxLat)\n",
    "exportname = 'users/mortcanty/'+systemid.replace('/','-')\n",
    "assexport = ee.batch.Export.image.toAsset(image.clip(rect).select('B2','B3','B4','B8'),\n",
    "                                          description='assetExportTask', \n",
    "                                          assetId=exportname,scale=10,maxPixels=1e9)\n",
    "assexportid = str(assexport.id)\n",
    "print '****Exporting to Assets, task id: %s '%assexportid\n",
    "assexport.start() "
   ]
  },
  {
   "cell_type": "markdown",
   "metadata": {},
   "source": [
    "### Reducers"
   ]
  },
  {
   "cell_type": "code",
   "execution_count": null,
   "metadata": {},
   "outputs": [],
   "source": [
    "# Image.reduceRegion example\n",
    "#\n",
    "# Computes a simple reduction over a region of an image.  A reduction\n",
    "# is any process that takes an arbitrary number of inputs (such as\n",
    "# all the pixels of an image in a given region) and computes one or\n",
    "# more fixed outputs.  The result is a dictionary that contains the\n",
    "# computed values, which in this example is the maximum pixel value\n",
    "# in the region.\n",
    "#\n",
    "# This example shows how to print the resulting dictionary to the\n",
    "# console, which is useful when developing and debugging your\n",
    "# scripts, but in a larger workflow you might instead use the\n",
    "# Dicitionary.get() function to extract the values print np.max(band1)you need from the\n",
    "# dictionary for use as inputs to other functions.\n",
    "\n",
    "# The input image to reduce, in this case an SRTM elevation map.\n",
    "image = ee.Image('srtm90_v4')\n",
    "\n",
    "# The region to reduce within.\n",
    "poly = ee.Geometry.Rectangle(-109.05, 41, -102.05, 37)\n",
    "\n",
    "# Reduce the image within the given region, using a reducer that\n",
    "# computes the max pixel value.  We also specify the spatial\n",
    "# resolution at which to perform the computation, in this case 200\n",
    "# meters.\n",
    "max = image.reduceRegion(ee.Reducer.max(), poly, 200)\n",
    "\n",
    "# Print the result to the console.\n",
    "print max.getInfo()\n"
   ]
  },
  {
   "cell_type": "markdown",
   "metadata": {},
   "source": [
    "### Iteration"
   ]
  },
  {
   "cell_type": "code",
   "execution_count": null,
   "metadata": {},
   "outputs": [],
   "source": [
    "# Pure Python\n",
    "\n",
    "sum = 0\n",
    "for i in range(10):\n",
    "    sum += i\n",
    "print sum    "
   ]
  },
  {
   "cell_type": "code",
   "execution_count": null,
   "metadata": {},
   "outputs": [],
   "source": [
    "# numpy\n",
    "import numpy as np\n",
    "\n",
    "print np.array(range(10)).sum()"
   ]
  },
  {
   "cell_type": "code",
   "execution_count": null,
   "metadata": {},
   "outputs": [],
   "source": [
    "# ee Python API\n",
    "\n",
    "def sum(current,prev):\n",
    "    prev = ee.Number(prev)\n",
    "    return prev.add(current)\n",
    "\n",
    "input = ee.List.sequence(0,9)\n",
    "first = ee.Number(0)\n",
    "result = input.iterate(sum,first)\n",
    "print result"
   ]
  },
  {
   "cell_type": "code",
   "execution_count": null,
   "metadata": {},
   "outputs": [],
   "source": [
    "print result.getInfo()"
   ]
  },
  {
   "cell_type": "markdown",
   "metadata": {
    "collapsed": true
   },
   "source": [
    "### Principal components"
   ]
  },
  {
   "cell_type": "code",
   "execution_count": null,
   "metadata": {},
   "outputs": [],
   "source": [
    "import ee\n",
    "import IPython.display as disp\n",
    "from auxil import eepca \n",
    "ee.Initialize()\n",
    "\n",
    "im = ee.Image(\n",
    "  'LANDSAT/LE07/C01/T1_RT_TOA/LE07_197025_20010626') \\\n",
    "              .select('B1','B2','B3','B4','B5','B7')\n",
    "    \n",
    "pcs, lambdas = eepca.pca(im) \n",
    "\n",
    "url = pcs.select('pc1','pc2','pc3') \\\n",
    "                .getThumbURL({'min':-0.1,'max':0.1})\n",
    "disp.Image(url=url)"
   ]
  },
  {
   "cell_type": "code",
   "execution_count": null,
   "metadata": {},
   "outputs": [],
   "source": [
    "gdexporttask = ee.batch.Export.image.toDrive(pcs,\n",
    "               description='driveExportTask', \n",
    "               folder='EarthEngineImages',\n",
    "               fileNamePrefix='PCA_20010626',\n",
    "               scale=30,\n",
    "               maxPixels=1e9) \n",
    "gdexporttask.start()              "
   ]
  },
  {
   "cell_type": "markdown",
   "metadata": {},
   "source": [
    "### Canny edge detection"
   ]
  },
  {
   "cell_type": "code",
   "execution_count": null,
   "metadata": {},
   "outputs": [],
   "source": [
    "im = ee.Image(\n",
    "  'LANDSAT/LE07/C01/T1_RT_TOA/LE07_197025_20010626') \\\n",
    "       .select('B4')\n",
    "edges = ee.Algorithms.CannyEdgeDetector(im,0.2)\n",
    "\n",
    "gdexporttask = ee.batch.Export.image.toAsset(edges,\n",
    "                      description='assetExportTask', \n",
    "                      assetId='users/mortcanty/edges',\n",
    "                      scale=30,\n",
    "                      maxPixels=1e9) \n",
    "gdexporttask.start()   "
   ]
  },
  {
   "cell_type": "markdown",
   "metadata": {},
   "source": [
    "### HSV Panchromatic sharpening"
   ]
  },
  {
   "cell_type": "code",
   "execution_count": null,
   "metadata": {},
   "outputs": [],
   "source": [
    "# Load a Landsat 8 top-of-atmosphere reflectance image.\n",
    "image = ee.Image('LANDSAT/LC08/C01/T1_TOA/LC08_044034_20140318')\n",
    "\n",
    "# Convert the RGB bands to the HSV color space.\n",
    "hsv = image.select(['B4', 'B3', 'B2']).rgbToHsv()\n",
    "\n",
    "# Swap in the panchromatic band and convert back to RGB.\n",
    "sharpened = ee.Image.cat([\n",
    "  hsv.select('hue'), hsv.select('saturation'), image.select('B8')\n",
    "]).hsvToRgb()"
   ]
  },
  {
   "cell_type": "code",
   "execution_count": null,
   "metadata": {},
   "outputs": [],
   "source": [
    "gdexporttask = ee.batch.Export.image.toAsset(sharpened,\n",
    "                      description='assetExportTask', \n",
    "                      assetId='users/mortcanty/pansharpened',\n",
    "                      scale=30,\n",
    "                      maxPixels=1e9) \n",
    "gdexporttask.start()   "
   ]
  },
  {
   "cell_type": "code",
   "execution_count": null,
   "metadata": {},
   "outputs": [],
   "source": []
  }
 ],
 "metadata": {
  "kernelspec": {
   "display_name": "Python 2",
   "language": "python",
   "name": "python2"
  },
  "language_info": {
   "codemirror_mode": {
    "name": "ipython",
    "version": 2
   },
   "file_extension": ".py",
   "mimetype": "text/x-python",
   "name": "python",
   "nbconvert_exporter": "python",
   "pygments_lexer": "ipython2",
   "version": "2.7.14"
  }
 },
 "nbformat": 4,
 "nbformat_minor": 2
}
