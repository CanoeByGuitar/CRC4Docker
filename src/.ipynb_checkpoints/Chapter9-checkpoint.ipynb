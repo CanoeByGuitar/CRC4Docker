{
 "cells": [
  {
   "cell_type": "markdown",
   "metadata": {},
   "source": [
    "# Examples for Chapter 9"
   ]
  },
  {
   "cell_type": "code",
   "execution_count": 1,
   "metadata": {},
   "outputs": [],
   "source": [
    "%matplotlib inline"
   ]
  },
  {
   "cell_type": "code",
   "execution_count": null,
   "metadata": {},
   "outputs": [],
   "source": [
    "run scripts/subset -d [200,200,1000,1000] imagery/LT5_19980329.tif "
   ]
  },
  {
   "cell_type": "code",
   "execution_count": null,
   "metadata": {},
   "outputs": [],
   "source": [
    "run scripts/dispms -f imagery/LT5_19980329_sub.tif -e 4 -p [4,5,7] \\\n",
    "-F imagery/LT5_19980516_sub.tif -E 4 -P [4,5,7] \\\n",
    "-s '/home/mort/LaTeX/new projects/CRC4/Chapter9/fig9_1.eps'"
   ]
  },
  {
   "cell_type": "markdown",
   "metadata": {},
   "source": [
    "## Naive methods"
   ]
  },
  {
   "cell_type": "code",
   "execution_count": null,
   "metadata": {},
   "outputs": [],
   "source": [
    "import ee\n",
    "import IPython.display as disp\n",
    "\n",
    "ee.Initialize()\n",
    "\n",
    "im1 = ee.Image('users/mortcanty/CRC4/Chapter9/LT5_19980329_sub')\n",
    "im2 = ee.Image('users/mortcanty/CRC4/Chapter9/LT5_19980516_sub')\n",
    "ndvi1 = im1.normalizedDifference(['b4', 'b3'])\n",
    "ndvi2 = im2.normalizedDifference(['b4', 'b3'])\n",
    "url = ndvi1.subtract(ndvi2) \\\n",
    "   .getThumbURL({'min':-0.3,'max':0.3})\n",
    "disp.Image(url=url)"
   ]
  },
  {
   "cell_type": "markdown",
   "metadata": {},
   "source": [
    "## Principal components"
   ]
  },
  {
   "cell_type": "code",
   "execution_count": null,
   "metadata": {},
   "outputs": [],
   "source": [
    "import numpy as np\n",
    "from osgeo import gdal\n",
    "from osgeo.gdalconst import GA_ReadOnly\n",
    "import matplotlib.pyplot as plt\n",
    "\n",
    "gdal.AllRegister()\n",
    "infile = 'imagery/LT5_19980329.tif'                 \n",
    "inDataset = gdal.Open(infile,GA_ReadOnly)     \n",
    "cols = inDataset.RasterXSize\n",
    "rows = inDataset.RasterYSize    \n",
    "band = inDataset.GetRasterBand(4)  \n",
    "G1 = band.ReadAsArray(0,0,cols,rows).flatten()\n",
    "infile = 'imagery/LT5_19980516.tif'                 \n",
    "inDataset = gdal.Open(infile,GA_ReadOnly)       \n",
    "band = inDataset.GetRasterBand(4)  \n",
    "G2 = band.ReadAsArray(0,0,cols,rows).flatten()\n",
    "idx = np.random.randint(0,rows*cols,10000)\n",
    "p = plt.plot(G1[idx],G2[idx],'.')\n",
    "plt.savefig('/home/mort/LaTeX/new projects/CRC4/Chapter9/fig9_3.eps',bbox_inches='tight')"
   ]
  },
  {
   "cell_type": "markdown",
   "metadata": {},
   "source": [
    "### Iterated PCA"
   ]
  },
  {
   "cell_type": "code",
   "execution_count": null,
   "metadata": {},
   "outputs": [],
   "source": [
    "run scripts/ex9_1 imagery/LT5_19980329_sub.tif imagery/LT5_19980516_sub.tif"
   ]
  },
  {
   "cell_type": "markdown",
   "metadata": {},
   "source": [
    "### Kernel PCA"
   ]
  },
  {
   "cell_type": "code",
   "execution_count": null,
   "metadata": {},
   "outputs": [],
   "source": [
    "run scripts/dispms -f imagery/traffic1.jpg -p [1,2,3] -e 3 -F imagery/traffic2.jpg -P [1,2,3] -E 3 \\\n",
    "-s '/home/mort/LaTeX/new projects/CRC4/Chapter9/fig9_6.eps'"
   ]
  },
  {
   "cell_type": "code",
   "execution_count": null,
   "metadata": {},
   "outputs": [],
   "source": [
    "import numpy as np\n",
    "from osgeo import gdal\n",
    "from osgeo.gdalconst import GA_ReadOnly, GDT_Float32\n",
    "\n",
    "gdal.AllRegister()\n",
    "G = np.zeros((1000,1000,2))\n",
    "inDataset = gdal.Open('imagery/traffic1.jpg',GA_ReadOnly)\n",
    "G[:,:,0] = inDataset.GetRasterBand(1).ReadAsArray(0,0,1000,1000).astype(float)\n",
    "inDataset = gdal.Open('imagery/traffic2.jpg',GA_ReadOnly)\n",
    "G[:,:,1] = inDataset.GetRasterBand(1).ReadAsArray(0,0,1000,1000).astype(float)\n",
    "driver = gdal.GetDriverByName('GTiff')\n",
    "outDataset = driver.Create('imagery/traffic_bitemp.tif',1000,1000,2,GDT_Float32)\n",
    "for k in range(2):        \n",
    "    outBand = outDataset.GetRasterBand(k+1)\n",
    "    outBand.WriteArray(G[:,:,k],0,0) \n",
    "    outBand.FlushCache() \n",
    "G[:,:,1] = G[:,:,1]**2  \n",
    "outDataset = driver.Create('imagery/traffic_bitemp_nonlin.tif',1000,1000,2,GDT_Float32)\n",
    "for k in range(2):        \n",
    "    outBand = outDataset.GetRasterBand(k+1)\n",
    "    outBand.WriteArray(G[:,:,k],0,0) \n",
    "    outBand.FlushCache() \n",
    "inDataset=None\n",
    "outDataset=None"
   ]
  },
  {
   "cell_type": "code",
   "execution_count": null,
   "metadata": {},
   "outputs": [],
   "source": [
    "run scripts/pca imagery/traffic_bitemp.tif"
   ]
  },
  {
   "cell_type": "code",
   "execution_count": null,
   "metadata": {},
   "outputs": [],
   "source": [
    "run scripts/kpca  imagery/traffic_bitemp.tif "
   ]
  },
  {
   "cell_type": "code",
   "execution_count": null,
   "metadata": {},
   "outputs": [],
   "source": [
    "run scripts/dispms -f imagery/traffic_bitemp_pca.tif -e 2 -p [2,2,2] \\\n",
    "-F imagery/traffic_bitemp_kpca.tif -E 2 -P [2,2,2] \\\n",
    "-s '/home/mort/LaTeX/new projects/CRC4/Chapter9/fig9_7.eps'"
   ]
  },
  {
   "cell_type": "code",
   "execution_count": null,
   "metadata": {},
   "outputs": [],
   "source": [
    "run scripts/pca imagery/traffic_bitemp_nonlin.tif"
   ]
  },
  {
   "cell_type": "code",
   "execution_count": null,
   "metadata": {},
   "outputs": [],
   "source": [
    "run scripts/kpca imagery/traffic_bitemp_nonlin.tif "
   ]
  },
  {
   "cell_type": "code",
   "execution_count": null,
   "metadata": {},
   "outputs": [],
   "source": [
    "run scripts/dispms -f imagery/traffic_bitemp_nonlin_pca.tif -e 2 -p [2,2,2] \\\n",
    "-F imagery/traffic_bitemp_nonlin_kpca.tif -E 2 -P [5,5,5] \\\n",
    "-s '/home/mort/LaTeX/new projects/CRC4/Chapter9/fig9_8.eps'"
   ]
  },
  {
   "cell_type": "markdown",
   "metadata": {},
   "source": [
    "## Multivariate Alteration Detection (MAD)"
   ]
  },
  {
   "cell_type": "code",
   "execution_count": null,
   "metadata": {
    "scrolled": false
   },
   "outputs": [],
   "source": [
    "# Run the iMAD transformation\n",
    "%run scripts/iMad -i 50 imagery/LT5_19980329_sub.tif \\\n",
    "                         imagery/LT5_19980516_sub.tif\n",
    "# Set a signifcance level and calculate change map\n",
    "%run scripts/iMadmap \\\n",
    "imagery/MAD(LT5_19980329_sub-LT5_19980516_sub).tif 0.0001"
   ]
  },
  {
   "cell_type": "code",
   "execution_count": null,
   "metadata": {},
   "outputs": [],
   "source": [
    "run scripts/dispms -f imagery/MAD(LT5_19980329_sub-LT5_19980516_sub)_cmap.tif -e 3 -p [1,1,1] \\\n",
    "-s '/home/mort/LaTeX/new projects/CRC4/Chapter9/fig9_9.eps'"
   ]
  },
  {
   "cell_type": "code",
   "execution_count": null,
   "metadata": {},
   "outputs": [],
   "source": [
    "run scripts/dispms -f imagery/LE7_20010626 -e 3 -p [4,5,6] \\\n",
    "-F imagery/LE7_20010829 -E 3  -P [4,5,6] \\\n",
    "-s '/home/mort/LaTeX/new projects/CRC4/Chapter9/fig9_11.eps'"
   ]
  },
  {
   "cell_type": "code",
   "execution_count": null,
   "metadata": {},
   "outputs": [],
   "source": [
    "%run scripts/iMad imagery/LE7_20010626 imagery/LE7_20010829\n",
    "%run scripts/iMadmap imagery/MAD(LE7_20010626-LE7_20010829) 0.0001 "
   ]
  },
  {
   "cell_type": "code",
   "execution_count": null,
   "metadata": {},
   "outputs": [],
   "source": [
    "run scripts/dispms -f imagery/MAD(LE7_20010626-LE7_20010829) -e 2 -p [1,1,1] \\\n",
    "-F imagery/MAD(LE7_20010626-LE7_20010829) -E 2 -P [3,3,3] \\\n",
    "-s '/home/mort/LaTeX/new projects/CRC4/Chapter9/fig9_13.eps'"
   ]
  },
  {
   "cell_type": "code",
   "execution_count": null,
   "metadata": {},
   "outputs": [],
   "source": [
    "run scripts/dispms -f imagery/MAD(LE7_20010626-LE7_20010829)_cmap -e 3 -p [1,2,3] \\\n",
    "-s '/home/mort/LaTeX/new projects/CRC4/Chapter9/fig9_14.eps'"
   ]
  },
  {
   "cell_type": "code",
   "execution_count": null,
   "metadata": {},
   "outputs": [],
   "source": [
    "run scripts/em -K 4  imagery/MAD(LE7_20010626-LE7_20010829)"
   ]
  },
  {
   "cell_type": "code",
   "execution_count": null,
   "metadata": {},
   "outputs": [],
   "source": [
    "%run scripts/dispms -f imagery/MAD(LE7_20010626-LE7_20010829)_em -c -d [400,0,200,200] \\\n",
    "-F imagery/LE7_20010829 -E 1 -D [400,0,200,200] -P [4,4,4] \\\n",
    "-s '/home/mort/LaTeX/new projects/CRC4/Chapter9/fig9_15.eps'"
   ]
  },
  {
   "cell_type": "markdown",
   "metadata": {},
   "source": [
    "## MAD on the Google Earth Engine"
   ]
  },
  {
   "cell_type": "code",
   "execution_count": 2,
   "metadata": {},
   "outputs": [],
   "source": [
    "import ee, math, time\n",
    "from ipyleaflet import (Map,DrawControl,TileLayer)\n",
    "from auxil.eeMad import imad\n",
    "ee.Initialize()\n",
    "\n",
    "def handle_draw(self, action, geo_json):\n",
    "    global poly\n",
    "    if action == 'created':\n",
    "        coords =  geo_json['geometry']['coordinates']\n",
    "        poly = ee.Geometry.Polygon(coords)\n",
    "        \n",
    "dc = DrawControl()\n",
    "dc.on_draw(handle_draw)\n",
    "\n",
    "def GetTileLayerUrl(ee_image_object):\n",
    "  map_id = ee.Image(ee_image_object).getMapId()\n",
    "  tile_url_template = \"https://earthengine.googleapis.com/map/{mapid}/{{z}}/{{x}}/{{y}}?token={token}\"\n",
    "  return tile_url_template.format(**map_id)"
   ]
  },
  {
   "cell_type": "markdown",
   "metadata": {},
   "source": [
    "### Draw the map"
   ]
  },
  {
   "cell_type": "code",
   "execution_count": 28,
   "metadata": {
    "scrolled": false
   },
   "outputs": [
    {
     "data": {
      "application/vnd.jupyter.widget-view+json": {
       "model_id": "33412c435df2460390da8b0968d785b2",
       "version_major": 2,
       "version_minor": 0
      },
      "text/plain": [
       "TWFwKGJhc2VtYXA9eyd1cmwnOiAnaHR0cHM6Ly97c30udGlsZS5vcGVuc3RyZWV0bWFwLm9yZy97en0ve3h9L3t5fS5wbmcnLCAnbWF4X3pvb20nOiAxOSwgJ2F0dHJpYnV0aW9uJzogJ01hcCDigKY=\n"
      ]
     },
     "metadata": {},
     "output_type": "display_data"
    }
   ],
   "source": [
    "m = Map(center=[50.9, 6.4], zoom=11)\n",
    "m.add_control(dc)\n",
    "\n",
    "m"
   ]
  },
  {
   "cell_type": "markdown",
   "metadata": {},
   "source": [
    "### iMAD wrapper function"
   ]
  },
  {
   "cell_type": "code",
   "execution_count": 29,
   "metadata": {},
   "outputs": [],
   "source": [
    "def iMad(cid,poly,sd1,ed1,sd2,ed2,bns,maxitr):\n",
    "    collection = ee.ImageCollection(cid) \\\n",
    "         .filterBounds(poly) \\\n",
    "         .filterDate(ee.Date(sd1), ee.Date(ed1)) \\\n",
    "         .sort('system:time_start',False)\n",
    "    image1 = ee.Image(collection.first()).select(bns)\n",
    "    collection = ee.ImageCollection(collectionid) \\\n",
    "         .filterBounds(poly) \\\n",
    "         .filterDate(ee.Date(sd2), ee.Date(ed2)) \\\n",
    "         .sort('system:time_start',False)                   \n",
    "    image2 = ee.Image(collection.first()).select(bns) \n",
    "    image2 = image2.register(image1,60)\n",
    "    inputlist = ee.List.sequence(1,maxitr)\n",
    "    first = ee.Dictionary({'done':ee.Number(0),\n",
    "          'image':image1.addBands(image2).clip(poly),\n",
    "          'allrhos': [ee.List.sequence(1,len(bns))],\n",
    "          'chi2':ee.Image.constant(0),\n",
    "          'MAD':ee.Image.constant(0)}) \n",
    "    madnames = ['MAD'+str(i+1) for i in range(len(bns))]\n",
    "#  run the algorithm    \n",
    "    result = ee.Dictionary(inputlist.iterate(imad,first))                \n",
    "    MAD = ee.Image(result.get('MAD')).rename(madnames)\n",
    "    return MAD"
   ]
  },
  {
   "cell_type": "markdown",
   "metadata": {},
   "source": [
    "### Input data"
   ]
  },
  {
   "cell_type": "code",
   "execution_count": 30,
   "metadata": {},
   "outputs": [],
   "source": [
    "collectionid = 'LANDSAT/LE07/C01/T1_RT_TOA'\n",
    "bandNames = ['B1','B2','B3','B4','B5','B7']\n",
    "startDate1 = '2001-06-25'\n",
    "endDate1 = '2001-06-27'\n",
    "startDate2 = '2001-08-28'\n",
    "endDate2 = '2001-08-30'\n",
    "maxitr = 50\n",
    "MAD = iMad(collectionid,poly,startDate1,\n",
    "           endDate1,startDate2,endDate2,\n",
    "           bandNames,maxitr)"
   ]
  },
  {
   "cell_type": "markdown",
   "metadata": {},
   "source": [
    "### Display on map"
   ]
  },
  {
   "cell_type": "code",
   "execution_count": 35,
   "metadata": {},
   "outputs": [],
   "source": [
    "m.add_layer(\n",
    "    TileLayer(url=GetTileLayerUrl(\n",
    "        MAD.select('MAD1') \\\n",
    "        .visualize(min=-5, max=5)\n",
    "    )\n",
    "))"
   ]
  },
  {
   "cell_type": "markdown",
   "metadata": {},
   "source": [
    "### Export to assets"
   ]
  },
  {
   "cell_type": "code",
   "execution_count": null,
   "metadata": {},
   "outputs": [],
   "source": [
    "assexportname = 'users/mortcanty/imad/trail1'\n",
    "assexport = ee.batch.Export.image.toAsset(MAD,\n",
    "           description='assetExportTask', \n",
    "           assetId=assexportname,scale=30,maxPixels=1e9)\n",
    "assexportid = str(assexport.id)\n",
    "print '****Exporting to Assets, task id: %s'%assexportid\n",
    "assexport.start() "
   ]
  },
  {
   "cell_type": "markdown",
   "metadata": {},
   "source": [
    "## Sequential SAR change detection on GEE"
   ]
  },
  {
   "cell_type": "code",
   "execution_count": null,
   "metadata": {},
   "outputs": [],
   "source": [
    "import ee, math, time\n",
    "from ipyleaflet import (Map,DrawControl,TileLayer,basemaps)\n",
    "from auxil.eeWishart import omnibus\n",
    "ee.Initialize()"
   ]
  },
  {
   "cell_type": "markdown",
   "metadata": {},
   "source": [
    "### Auxiliary functions"
   ]
  },
  {
   "cell_type": "code",
   "execution_count": null,
   "metadata": {},
   "outputs": [],
   "source": [
    "def get_vvvh(image):   \n",
    "    ''' get 'VV' and 'VH' bands from sentinel-1 imageCollection and restore linear signal from db-values '''\n",
    "    return image.select('VV','VH').multiply(ee.Image.constant(math.log(10.0)/10.0)).exp()\n",
    "\n",
    "def get_image(current,image):\n",
    "    ''' accumulate a single image from a collection of images '''\n",
    "    return ee.Image.cat(ee.Image(image),current)    \n",
    "    \n",
    "def clipList(current,prev):\n",
    "    ''' clip a list of images '''\n",
    "    imlist = ee.List(ee.Dictionary(prev).get('imlist'))\n",
    "    poly = ee.Dictionary(prev).get('poly')    \n",
    "    imlist = imlist.add(ee.Image(current).clip(poly))\n",
    "    return ee.Dictionary({'imlist':imlist,'poly':poly})\n",
    "\n",
    "def handle_draw(self, action, geo_json):\n",
    "    global poly\n",
    "    if action == 'created':\n",
    "        coords =  geo_json['geometry']['coordinates']\n",
    "        poly = ee.Geometry.Polygon(coords)\n",
    "        \n",
    "dc = DrawControl()\n",
    "dc.on_draw(handle_draw)\n",
    "\n",
    "def GetTileLayerUrl(ee_image_object):\n",
    "  map_id = ee.Image(ee_image_object).getMapId()\n",
    "  tile_url_template = \"https://earthengine.googleapis.com/map/{mapid}/{{z}}/{{x}}/{{y}}?token={token}\"\n",
    "  return tile_url_template.format(**map_id)"
   ]
  },
  {
   "cell_type": "markdown",
   "metadata": {},
   "source": [
    "### Display the map"
   ]
  },
  {
   "cell_type": "code",
   "execution_count": null,
   "metadata": {
    "scrolled": false
   },
   "outputs": [],
   "source": [
    "m = Map(center=[50.9, 6.4], zoom=11, basemap=basemaps.OpenStreetMap.HOT,layout={'height':'500px'})\n",
    "m.add_control(dc)\n",
    "\n",
    "m"
   ]
  },
  {
   "cell_type": "markdown",
   "metadata": {},
   "source": [
    "### Search parameters"
   ]
  },
  {
   "cell_type": "code",
   "execution_count": null,
   "metadata": {},
   "outputs": [],
   "source": [
    "startdate = '2017-04-01'\n",
    "enddate = '2017-11-01'\n",
    "relativeorbitnumber = 15\n",
    "orbitpass = 'ASCENDING'\n",
    "assexportname = 'users/mortcanty/omnibus/trail3'\n",
    "significance = 0.0001\n",
    "medianfilter = True"
   ]
  },
  {
   "cell_type": "markdown",
   "metadata": {},
   "source": [
    "### Run the algorithm"
   ]
  },
  {
   "cell_type": "code",
   "execution_count": null,
   "metadata": {},
   "outputs": [],
   "source": [
    "try:\n",
    "    collection = ee.ImageCollection('COPERNICUS/S1_GRD') \\\n",
    "              .filterBounds(poly) \\\n",
    "              .filterDate(ee.Date(startdate), ee.Date(enddate)) \\\n",
    "              .filter(ee.Filter.eq('transmitterReceiverPolarisation', ['VV','VH'])) \\\n",
    "              .filter(ee.Filter.eq('resolution_meters', 10)) \\\n",
    "              .filter(ee.Filter.eq('instrumentMode', 'IW')) \\\n",
    "              .filter(ee.Filter.eq('orbitProperties_pass', orbitpass))   \n",
    "    if relativeorbitnumber is not None:\n",
    "        collection = collection.filter(ee.Filter.eq('relativeOrbitNumber_start', int(relativeorbitnumber)))            \n",
    "    collection = collection.sort('system:time_start') \n",
    "     \n",
    "    acquisition_times = ee.List(collection.aggregate_array('system:time_start')).getInfo()\n",
    "    count = len(acquisition_times) \n",
    "    if count<2:\n",
    "        raise ValueError('Less than 2 images found')\n",
    "    timestamplist = []\n",
    "    for timestamp in acquisition_times:\n",
    "        tmp = time.gmtime(int(timestamp)/1000)\n",
    "        timestamplist.append(time.strftime('%x', tmp))  \n",
    "#  make timestamps in YYYYMMDD format            \n",
    "    timestamplist = [x.replace('/','') for x in timestamplist]  \n",
    "    timestamplist = ['T20'+x[4:]+x[0:4] for x in timestamplist]\n",
    "#  in case of duplicates add running integer\n",
    "    timestamplist1 = [timestamplist[i] + '_' + str(i+1) for i in range(len(timestamplist))]    \n",
    "    relativeorbitnumbers = str(map(int,ee.List(collection.aggregate_array('relativeOrbitNumber_start')).getInfo()))\n",
    "    print 'Images found: %i'%count\n",
    "    print 'Acquistion dates'\n",
    "    print timestamplist\n",
    "    print 'Relative orbit numbers'\n",
    "    print relativeorbitnumbers\n",
    "    pcollection = collection.map(get_vvvh)\n",
    "    pList = pcollection.toList(100)   \n",
    "    first = ee.Dictionary({'imlist':ee.List([]),'poly':poly}) \n",
    "    imList = ee.Dictionary(pList.iterate(clipList,first)).get('imlist')\n",
    "    result = ee.Dictionary(omnibus(imList,significance,medianfilter))\n",
    "except Exception as e:\n",
    "    print 'An error occurred in Omnibus: %s'%e\n"
   ]
  },
  {
   "cell_type": "markdown",
   "metadata": {},
   "source": [
    "### Display results"
   ]
  },
  {
   "cell_type": "code",
   "execution_count": null,
   "metadata": {},
   "outputs": [],
   "source": [
    "jet = 'black,blue,cyan,yellow,red'\n",
    "\n",
    "cmap = ee.Image(result.get('cmap')).byte()   \n",
    "smap = ee.Image(result.get('smap')).byte()\n",
    "fmap = ee.Image(result.get('fmap')).byte()  \n",
    "bmap = ee.Image(result.get('bmap')).byte()\n",
    "\n",
    "m.add_layer(\n",
    "    TileLayer(url=GetTileLayerUrl(\n",
    "        cmap.visualize(min=0, max=count, palette=jet,opacity = 0.4)\n",
    "    )\n",
    "))"
   ]
  },
  {
   "cell_type": "markdown",
   "metadata": {},
   "source": [
    "### Export to GEE assets"
   ]
  },
  {
   "cell_type": "code",
   "execution_count": null,
   "metadata": {},
   "outputs": [],
   "source": [
    "collection1 = ee.ImageCollection('COPERNICUS/S2') \\\n",
    "                .filterBounds(poly) \\\n",
    "                .filterDate(ee.Date(startdate),ee.Date(enddate)) \\\n",
    "                .sort('CLOUDY_PIXEL_PERCENTAGE',True)\n",
    "count1 = collection1.size().getInfo()\n",
    "if count1>0:\n",
    "#  use sentinel-2 as background                        \n",
    "    background = ee.Image(collection1.first()) \\\n",
    "                           .clip(poly) \\\n",
    "                           .select('B8') \\\n",
    "                           .divide(10000)    \n",
    "else:\n",
    "    background = collection.mean() \\\n",
    "                           .select(0) \\\n",
    "                           .multiply(ee.Image.constant(math.log(10.0)/10.0)).exp()                                                \n",
    "background = background.where(background.gte(1),1).clip(poly)     \n",
    "cmaps = ee.Image.cat(cmap,smap,fmap,bmap,background).rename(['cmap','smap','fmap']+timestamplist1[1:]+['background'])                \n",
    "assexport = ee.batch.Export.image.toAsset(cmaps,\n",
    "                            description='assetExportTask', \n",
    "                            assetId=assexportname,scale=10,maxPixels=1e9)\n",
    "assexportid = str(assexport.id)\n",
    "print '****Exporting to Assets, task id: %s'%assexportid\n",
    "assexport.start()"
   ]
  },
  {
   "cell_type": "code",
   "execution_count": null,
   "metadata": {},
   "outputs": [],
   "source": []
  }
 ],
 "metadata": {
  "anaconda-cloud": {},
  "kernelspec": {
   "display_name": "Python 2",
   "language": "python",
   "name": "python2"
  },
  "language_info": {
   "codemirror_mode": {
    "name": "ipython",
    "version": 2
   },
   "file_extension": ".py",
   "mimetype": "text/x-python",
   "name": "python",
   "nbconvert_exporter": "python",
   "pygments_lexer": "ipython2",
   "version": "2.7.15"
  }
 },
 "nbformat": 4,
 "nbformat_minor": 2
}
