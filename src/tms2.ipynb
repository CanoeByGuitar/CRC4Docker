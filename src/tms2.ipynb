{
 "cells": [
  {
   "cell_type": "code",
   "execution_count": 1,
   "metadata": {},
   "outputs": [
    {
     "data": {
      "application/vnd.jupyter.widget-view+json": {
       "model_id": "2b8d01698cee4ac8a56946ef0072800f",
       "version_major": 2,
       "version_minor": 0
      },
      "text/plain": [
       "TWFwKGJhc2VtYXA9eyd1cmwnOiAnaHR0cHM6Ly97c30udGlsZS5vcGVuc3RyZWV0bWFwLm9yZy97en0ve3h9L3t5fS5wbmcnLCAnbWF4X3pvb20nOiAxOSwgJ2F0dHJpYnV0aW9uJzogJ01hcCDigKY=\n"
      ]
     },
     "metadata": {},
     "output_type": "display_data"
    }
   ],
   "source": [
    "from __future__ import print_function\n",
    "import ee\n",
    "\n",
    "from ipyleaflet import (\n",
    "    Map,TileLayer\n",
    ")\n",
    "\n",
    "center = [52.707, 5.797]\n",
    "zoom = 10\n",
    "\n",
    "m = Map(center=center, zoom=zoom)\n",
    "m"
   ]
  },
  {
   "cell_type": "code",
   "execution_count": 3,
   "metadata": {},
   "outputs": [
    {
     "name": "stdout",
     "output_type": "stream",
     "text": [
      "20180501T105031_20180501T105029_T31UFU\n",
      "https://earthengine.googleapis.com/map/1a467702fa9dc5453ea30d72582d9da0/{z}/{x}/{y}?token=6e9fac599e7a1d90c0f343adbeea29ab\n"
     ]
    }
   ],
   "source": [
    "ee.Initialize()\n",
    "\n",
    "s2 = ee.ImageCollection('COPERNICUS/S2').filterMetadata('MGRS_TILE', 'equals', '31UFU')\n",
    "\n",
    "img = ee.Image(s2.sort('system:time_start', False).first())\n",
    "\n",
    "print(img.id().getInfo())\n",
    "\n",
    "img_viz = img.getMapId({'bands': 'B8,B11,B4', 'max': '6000,6000,4000'})\n",
    "\n",
    "# Or any other appropriate url\n",
    "gee_url = (\n",
    "    'https://earthengine.googleapis.com/map/MAPID/{z}/{x}/{y}?token=TOKEN'\n",
    ")\n",
    "\n",
    "gee_url = gee_url.replace('MAPID', img_viz['mapid'])\n",
    "gee_url = gee_url.replace('TOKEN', img_viz['token'])\n",
    "\n",
    "print( gee_url )\n",
    "#m.clear_layers()\n",
    "m.add_layer(TileLayer(url=gee_url))"
   ]
  },
  {
   "cell_type": "code",
   "execution_count": 3,
   "metadata": {},
   "outputs": [
    {
     "name": "stdout",
     "output_type": "stream",
     "text": [
      "{u'crs': {u'type': u'name', u'properties': {u'name': u'EPSG:3857'}}, u'type': u'Point', u'coordinates': [623389.1484423319, 6854552.132728827]}\n"
     ]
    }
   ],
   "source": [
    "print(ee.Geometry.Point(5.6, 52.3).transform(ee.Projection('EPSG:3857')).getInfo())"
   ]
  },
  {
   "cell_type": "code",
   "execution_count": null,
   "metadata": {},
   "outputs": [],
   "source": []
  }
 ],
 "metadata": {
  "kernelspec": {
   "display_name": "Python 2",
   "language": "python",
   "name": "python2"
  },
  "language_info": {
   "codemirror_mode": {
    "name": "ipython",
    "version": 2
   },
   "file_extension": ".py",
   "mimetype": "text/x-python",
   "name": "python",
   "nbconvert_exporter": "python",
   "pygments_lexer": "ipython2",
   "version": "2.7.15"
  }
 },
 "nbformat": 4,
 "nbformat_minor": 2
}
