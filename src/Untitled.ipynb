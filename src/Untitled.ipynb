{
 "cells": [
  {
   "cell_type": "code",
   "execution_count": 1,
   "metadata": {},
   "outputs": [
    {
     "name": "stdout",
     "output_type": "stream",
     "text": [
      "adaboost.py       em.py     ex9_1.py         meanshift.py    rx.py\r\n",
      "atwt.py           em.pyc    gamma_filter.py  mmse_filter.py  sar_seq.py\r\n",
      "c-correction.sh   enlml.py  hcl.py           mnf.py          \u001b[0m\u001b[01;32msar_seq.sh\u001b[0m*\r\n",
      "c_corr.py         ex1_1.py  iMadmap.py       normalize.sh    scatterplot.py\r\n",
      "\u001b[01;32mclassify.py\u001b[0m*      ex1_2.py  iMad.py          pca.py          som.py\r\n",
      "crossvalidate.py  ex3_1.py  kkmeans.py       plr.py          subset.py\r\n",
      "ct.py             ex3_2.py  kmeans.py        registerms.py   subset.pyc\r\n",
      "dispms.py         ex5_1.py  kpca.py          registerms.pyc  test.py\r\n",
      "dwt.py            ex5_2.py  krx.py           registersar.py\r\n",
      "ekmeans.py        ex5_3.py  mcnemar.py       run_sar_seq.sh\r\n"
     ]
    }
   ],
   "source": [
    "ls scripts"
   ]
  },
  {
   "cell_type": "code",
   "execution_count": 2,
   "metadata": {},
   "outputs": [],
   "source": [
    "!chmod +x scripts/run_sar_seq.sh"
   ]
  },
  {
   "cell_type": "code",
   "execution_count": 43,
   "metadata": {},
   "outputs": [
    {
     "name": "stdout",
     "output_type": "stream",
     "text": [
      "***** Multitemporal PolSAR Change Detection **********\n",
      "***** Sentinel-1 or Radarsat-2  imagery **************\n",
      "******************************************************\n",
      "imagery/S1A_IW_SLC__1SDV_20141108T054351_20141108T054421_003186_003AB4_B367_sub.tif\n",
      "imagery/S1A_IW_SLC__1SDV_20141202T054350_20141202T054420_003536_004299_33DA_warp.tif\n",
      "imagery/S1A_IW_SLC__1SDV_20150131T054348_20150131T054418_004411_005642_4935_warp.tif\n",
      "imagery/S1A_IW_SLC__1SDV_20150224T054348_20150224T054418_004761_005E71_4E6C_warp.tif\n",
      "imagery/S1A_IW_SLC__1SDV_20150401T054349_20150401T054416_005286_006AFC_1D4E_warp.tif\n",
      "imagery/S1A_IW_SLC__1SDV_20150507T054353_20150507T054421_005811_00778F_5C61_warp.tif\n",
      "imagery/S1A_IW_SLC__1SDV_20150612T054355_20150612T054423_006336_008554_0214_warp.tif\n",
      "imagery/S1A_IW_SLC__1SDV_20151010T054400_20151010T054428_008086_00B55D_4185_warp.tif\n",
      "===============================================\n",
      "     Multi-temporal SAR Change Detection\n",
      "===============================================\n",
      "Tue Jun 19 17:10:44 2018\n",
      "First (reference) filename:  imagery/S1A_IW_SLC__1SDV_20141108T054351_20141108T054421_003186_003AB4_B367_sub.tif\n",
      "number of images: 8\n",
      "equivalent number of looks: 12.000000\n",
      "significance level: 0.010000\n",
      "pre-calculating Rj and p-values ...\n",
      "attempting parallel calculation ...\n",
      "Waiting for connection file: ~/.ipython/profile_default/security/ipcontroller-client.json\n",
      "Connection file '~/.ipython/profile_default/security/ipcontroller-client.json' not found.\n",
      "You have attempted to connect to an IPython Cluster but no Controller could be found.\n",
      "Please double-check your configuration and ensure that a cluster is running. \n",
      "failed, so running sequential calculation ...\n",
      "ell=  1 2 3 4 5 6 7 \n",
      "elapsed time for p-value calculation: 31.5866880417\n",
      "most recent change map written to: /home/mort/python/CRC4Docker/src/imagery/sarseq_cmap.tif\n",
      "frequency map written to: /home/mort/python/CRC4Docker/src/imagery/sarseq_fmap.tif\n",
      "bitemporal map image written to: /home/mort/python/CRC4Docker/src/imagery/sarseq_bmap.tif\n",
      "first change map written to: /home/mort/python/CRC4Docker/src/imagery/sarseq_smap.tif\n",
      "total elapsed time: 31.7328760624\n"
     ]
    }
   ],
   "source": [
    "!scripts/run_sar_seq.sh S1A imagery/ 12 0.01"
   ]
  },
  {
   "cell_type": "code",
   "execution_count": null,
   "metadata": {},
   "outputs": [],
   "source": []
  }
 ],
 "metadata": {
  "kernelspec": {
   "display_name": "Python 2",
   "language": "python",
   "name": "python2"
  },
  "language_info": {
   "codemirror_mode": {
    "name": "ipython",
    "version": 2
   },
   "file_extension": ".py",
   "mimetype": "text/x-python",
   "name": "python",
   "nbconvert_exporter": "python",
   "pygments_lexer": "ipython2",
   "version": "2.7.15"
  }
 },
 "nbformat": 4,
 "nbformat_minor": 2
}
