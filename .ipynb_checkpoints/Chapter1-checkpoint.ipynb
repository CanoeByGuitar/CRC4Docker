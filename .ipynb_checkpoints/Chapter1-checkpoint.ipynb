{
 "cells": [
  {
   "cell_type": "code",
   "execution_count": 1,
   "metadata": {
    "collapsed": false
   },
   "outputs": [
    {
     "data": {
      "text/html": [
       "<img src=\"https://earthengine.googleapis.com/api/thumb?thumbid=b6f822e42c9afa9d56031f4dfcaa4263&token=95201f2bedb1de19a1a62c56ed2823c9\"/>"
      ],
      "text/plain": [
       "<IPython.core.display.Image object>"
      ]
     },
     "execution_count": 1,
     "metadata": {},
     "output_type": "execute_result"
    }
   ],
   "source": [
    "%matplotlib inline\n",
    "import IPython.display as disp\n",
    "import ee\n",
    "\n",
    "ee.Initialize()\n",
    "\n",
    "minlon = 6.31\n",
    "minlat = 50.83\n",
    "maxlon = 6.58\n",
    "maxlat = 50.95\n",
    "rect = ee.Geometry.Rectangle([minlon,minlat,maxlon,maxlat]);\n",
    "collection = ee.ImageCollection('COPERNICUS/S1_GRD') \\\n",
    "  .filterBounds(ee.Geometry.Point(minlon,minlat)) \\\n",
    "  .filterBounds(ee.Geometry.Point(maxlon,maxlat)) \\\n",
    "  .filterDate(ee.Date('2017-05-01'), ee.Date('2017-06-01')) \\\n",
    "  .filter(ee.Filter.eq('transmitterReceiverPolarisation', ['VV','VH'])) \\\n",
    "  .filter(ee.Filter.eq('resolution_meters', 10)) \\\n",
    "  .filter(ee.Filter.eq('instrumentMode', 'IW')) \n",
    "image = ee.Image(collection.first()).clip(rect)                        \n",
    "url = image.select('VV').getThumbURL({'min':-20,'max':0})\n",
    "disp.Image(url=url)"
   ]
  },
  {
   "cell_type": "code",
   "execution_count": 4,
   "metadata": {
    "collapsed": false
   },
   "outputs": [
    {
     "name": "stdout",
     "output_type": "stream",
     "text": [
      "/bin/sh: 1: cd: can't cd to /home/scripts\r\n"
     ]
    }
   ],
   "source": [
    "!cd /home/scripts"
   ]
  },
  {
   "cell_type": "code",
   "execution_count": null,
   "metadata": {
    "collapsed": true
   },
   "outputs": [],
   "source": [
    "from osgeo import gdal\n",
    "from osgeo.gdalconst import GA_ReadOnly\n",
    "\n",
    "gdal.AllRegister()\n",
    "infile = '../imagery/may0107'                \n",
    "inDataset = gdal.Open(infile,GA_ReadOnly)     \n",
    "cols = inDataset.RasterXSize\n",
    "rows = inDataset.RasterYSize    \n",
    "\n",
    "#  data matrix\n",
    "G = np.zeros((rows*cols,3)) \n",
    "k = 0                                   \n",
    "for b in range(3):\n",
    "    band = inDataset.GetRasterBand(b+1)\n",
    "    tmp = band.ReadAsArray(0,0,cols,rows).ravel()\n",
    "    G[:,b] = tmp - np.mean(tmp)\n",
    "    \n",
    "#  covariance matrix\n",
    "C = np.mat(G).T*np.mat(G)/(cols*rows-1)  \n",
    "print C  "
   ]
  },
  {
   "cell_type": "code",
   "execution_count": null,
   "metadata": {
    "collapsed": true
   },
   "outputs": [],
   "source": [
    "eigenvalues, eigenvectors = np.linalg.eigh(C)\n",
    "print eigenvalues\n",
    "print eigenvectors"
   ]
  },
  {
   "cell_type": "code",
   "execution_count": null,
   "metadata": {
    "collapsed": true
   },
   "outputs": [],
   "source": [
    "U = eigenvectors\n",
    "print U.T*U"
   ]
  },
  {
   "cell_type": "code",
   "execution_count": null,
   "metadata": {
    "collapsed": true
   },
   "outputs": [],
   "source": [
    "run ex1_2"
   ]
  },
  {
   "cell_type": "code",
   "execution_count": null,
   "metadata": {
    "collapsed": true
   },
   "outputs": [],
   "source": [
    "run dispms -f '../imagery/may0107_pca.tif' -e 4"
   ]
  },
  {
   "cell_type": "code",
   "execution_count": 5,
   "metadata": {
    "collapsed": false
   },
   "outputs": [
    {
     "name": "stdout",
     "output_type": "stream",
     "text": [
      "\u001b[0m\u001b[01;32mbuild_crc4docker\u001b[0m*  README.md        \u001b[01;34msrc\u001b[0m/             Untitled.ipynb\r\n",
      "Chapter1.ipynb     \u001b[01;32mrun_crc4docker\u001b[0m*  Untitled1.ipynb\r\n"
     ]
    }
   ],
   "source": [
    "ls"
   ]
  },
  {
   "cell_type": "code",
   "execution_count": null,
   "metadata": {
    "collapsed": true
   },
   "outputs": [],
   "source": []
  }
 ],
 "metadata": {
  "kernelspec": {
   "display_name": "Python [crc4]",
   "language": "python",
   "name": "Python [crc4]"
  },
  "language_info": {
   "codemirror_mode": {
    "name": "ipython",
    "version": 2
   },
   "file_extension": ".py",
   "mimetype": "text/x-python",
   "name": "python",
   "nbconvert_exporter": "python",
   "pygments_lexer": "ipython2",
   "version": "2.7.14"
  }
 },
 "nbformat": 4,
 "nbformat_minor": 0
}
